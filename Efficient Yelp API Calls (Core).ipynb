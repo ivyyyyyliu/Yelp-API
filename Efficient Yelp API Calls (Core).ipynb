{
 "cells": [
  {
   "cell_type": "code",
   "execution_count": 34,
   "id": "0710af9a",
   "metadata": {},
   "outputs": [],
   "source": [
    "# Standard Imports\n",
    "import numpy as np\n",
    "import pandas as pd\n",
    "import matplotlib.pyplot as plt\n",
    "import seaborn as sns\n",
    "# Additional Imports\n",
    "import os, json, math, time\n",
    "from yelpapi import YelpAPI\n",
    "from tqdm.notebook import tqdm_notebook\n",
    "\n"
   ]
  },
  {
   "cell_type": "code",
   "execution_count": 2,
   "id": "0b7fe6ee",
   "metadata": {},
   "outputs": [
    {
     "data": {
      "text/plain": [
       "dict_keys(['client-id', 'API Key'])"
      ]
     },
     "execution_count": 2,
     "metadata": {},
     "output_type": "execute_result"
    }
   ],
   "source": [
    "import json\n",
    "with open('/Users/Ivy/.secret/yelp_api.json') as f: #change the path to match YOUR path!!\n",
    "    login = json.load(f)\n",
    "login.keys()\n",
    "\n"
   ]
  },
  {
   "cell_type": "code",
   "execution_count": 3,
   "id": "1925d7e0",
   "metadata": {},
   "outputs": [],
   "source": [
    "#pip install yelpapi"
   ]
  },
  {
   "cell_type": "code",
   "execution_count": 14,
   "id": "e3cf3d28",
   "metadata": {},
   "outputs": [
    {
     "data": {
      "text/plain": [
       "<yelpapi.yelpapi.YelpAPI at 0x176d9f287c0>"
      ]
     },
     "execution_count": 14,
     "metadata": {},
     "output_type": "execute_result"
    }
   ],
   "source": [
    "# import the YelpAPI Class\n",
    "from yelpapi import YelpAPI\n",
    "# Create an instance with your key\n",
    "yelp= YelpAPI(login['API Key'], timeout_s=5.0)\n",
    "yelp\n"
   ]
  },
  {
   "cell_type": "code",
   "execution_count": 6,
   "id": "b5305ade",
   "metadata": {},
   "outputs": [],
   "source": [
    "# set our API call parameters and filename before the first call\n",
    "location = 'Los Angeles, CA 90001'\n",
    "term = 'sushi'"
   ]
  },
  {
   "cell_type": "code",
   "execution_count": 7,
   "id": "cd423597",
   "metadata": {},
   "outputs": [],
   "source": [
    "FOLDER ='Data/'\n",
    "os.makedirs(FOLDER,exist_ok=True)"
   ]
  },
  {
   "cell_type": "code",
   "execution_count": 8,
   "id": "82ce7e26",
   "metadata": {},
   "outputs": [
    {
     "data": {
      "text/plain": [
       "'Los Angeles'"
      ]
     },
     "execution_count": 8,
     "metadata": {},
     "output_type": "execute_result"
    }
   ],
   "source": [
    "location.split(',')[0]"
   ]
  },
  {
   "cell_type": "code",
   "execution_count": 9,
   "id": "4e29432d",
   "metadata": {},
   "outputs": [],
   "source": [
    "JSON_FILE = FOLDER+f\"{location.split(',')[0]}-{term}.json\""
   ]
  },
  {
   "cell_type": "code",
   "execution_count": 10,
   "id": "0a003a58",
   "metadata": {},
   "outputs": [
    {
     "data": {
      "text/plain": [
       "'Data/Los Angeles-sushi.json'"
      ]
     },
     "execution_count": 10,
     "metadata": {},
     "output_type": "execute_result"
    }
   ],
   "source": [
    "JSON_FILE"
   ]
  },
  {
   "cell_type": "code",
   "execution_count": 12,
   "id": "8a3ca097",
   "metadata": {},
   "outputs": [
    {
     "name": "stdout",
     "output_type": "stream",
     "text": [
      "[i]Data/Los Angeles-sushi.json already exists\n"
     ]
    }
   ],
   "source": [
    "file_exists = os.path.isfile(JSON_FILE)\n",
    "\n",
    "if file_exists == False:\n",
    "    folder = os.path.dirname(JSON_FILE)\n",
    "    if len(folder)>0:\n",
    "        os.makedirs(folder, exist_ok=True)\n",
    "        print(f\"[i] {JSON_FILE} not found. Saving empty list to file.\")\n",
    "        with open (JSON_FILE, 'w') as f:\n",
    "            json.dump([],f)\n",
    "else:\n",
    "    print(f\"[i]{JSON_FILE} already exists\")"
   ]
  },
  {
   "cell_type": "code",
   "execution_count": 15,
   "id": "db3fb236",
   "metadata": {},
   "outputs": [],
   "source": [
    "results = yelp.search_query(term = term,location = location)"
   ]
  },
  {
   "cell_type": "code",
   "execution_count": 16,
   "id": "07938069",
   "metadata": {},
   "outputs": [
    {
     "data": {
      "text/plain": [
       "dict"
      ]
     },
     "execution_count": 16,
     "metadata": {},
     "output_type": "execute_result"
    }
   ],
   "source": [
    "type(results)"
   ]
  },
  {
   "cell_type": "code",
   "execution_count": 17,
   "id": "05e474bd",
   "metadata": {},
   "outputs": [
    {
     "data": {
      "text/plain": [
       "3"
      ]
     },
     "execution_count": 17,
     "metadata": {},
     "output_type": "execute_result"
    }
   ],
   "source": [
    "len(results)"
   ]
  },
  {
   "cell_type": "code",
   "execution_count": 18,
   "id": "1dcd6b51",
   "metadata": {},
   "outputs": [
    {
     "data": {
      "text/plain": [
       "dict_keys(['businesses', 'total', 'region'])"
      ]
     },
     "execution_count": 18,
     "metadata": {},
     "output_type": "execute_result"
    }
   ],
   "source": [
    "results.keys()"
   ]
  },
  {
   "cell_type": "code",
   "execution_count": 19,
   "id": "cad4f30b",
   "metadata": {},
   "outputs": [
    {
     "data": {
      "text/plain": [
       "4500"
      ]
     },
     "execution_count": 19,
     "metadata": {},
     "output_type": "execute_result"
    }
   ],
   "source": [
    "results[\"total\"]"
   ]
  },
  {
   "cell_type": "code",
   "execution_count": 22,
   "id": "dea53261",
   "metadata": {},
   "outputs": [
    {
     "data": {
      "text/plain": [
       "20"
      ]
     },
     "execution_count": 22,
     "metadata": {},
     "output_type": "execute_result"
    }
   ],
   "source": [
    "results_per_page = len(results['businesses'])\n",
    "results_per_page"
   ]
  },
  {
   "cell_type": "code",
   "execution_count": 27,
   "id": "82dfe30c",
   "metadata": {},
   "outputs": [
    {
     "data": {
      "text/plain": [
       "225"
      ]
     },
     "execution_count": 27,
     "metadata": {},
     "output_type": "execute_result"
    }
   ],
   "source": [
    "# Use math.ceil to round up for the total number of pages of results.\n",
    "import time, math\n",
    "\n",
    "n_pages = math.ceil((results['total'])/ results_per_page)\n",
    "n_pages"
   ]
  },
  {
   "cell_type": "code",
   "execution_count": 31,
   "id": "5e809a49",
   "metadata": {},
   "outputs": [
    {
     "data": {
      "application/vnd.jupyter.widget-view+json": {
       "model_id": "774571103a6b41bbbc338042d3b34de1",
       "version_major": 2,
       "version_minor": 0
      },
      "text/plain": [
       "  0%|          | 0/225 [00:00<?, ?it/s]"
      ]
     },
     "metadata": {},
     "output_type": "display_data"
    }
   ],
   "source": [
    "for i in tqdm_notebook( range(1,n_pages+1)):\n",
    "    try:\n",
    "        time.sleep(.2)\n",
    "        with open (JSON_FILE, 'r') as f:\n",
    "            previous_results = json.load(f)\n",
    "        n_results = len(previous_results)\n",
    "        results = yelp.search_query(location = location, term = term, offest = n_results+1)\n",
    "        previous_results.extend(results['businesses'])\n",
    "        with open (JSON_FILE, 'w') as f:\n",
    "            json.dump(previous_results,f)\n",
    "    except Exception as e:\n",
    "        print('[!] ERROR:', e)"
   ]
  },
  {
   "cell_type": "code",
   "execution_count": 36,
   "id": "dae64fbe",
   "metadata": {},
   "outputs": [],
   "source": [
    "df = pd.read_json(JSON_FILE)"
   ]
  },
  {
   "cell_type": "code",
   "execution_count": 37,
   "id": "c7255f54",
   "metadata": {},
   "outputs": [
    {
     "data": {
      "text/html": [
       "<div>\n",
       "<style scoped>\n",
       "    .dataframe tbody tr th:only-of-type {\n",
       "        vertical-align: middle;\n",
       "    }\n",
       "\n",
       "    .dataframe tbody tr th {\n",
       "        vertical-align: top;\n",
       "    }\n",
       "\n",
       "    .dataframe thead th {\n",
       "        text-align: right;\n",
       "    }\n",
       "</style>\n",
       "<table border=\"1\" class=\"dataframe\">\n",
       "  <thead>\n",
       "    <tr style=\"text-align: right;\">\n",
       "      <th></th>\n",
       "      <th>id</th>\n",
       "      <th>alias</th>\n",
       "      <th>name</th>\n",
       "      <th>image_url</th>\n",
       "      <th>is_closed</th>\n",
       "      <th>url</th>\n",
       "      <th>review_count</th>\n",
       "      <th>categories</th>\n",
       "      <th>rating</th>\n",
       "      <th>coordinates</th>\n",
       "      <th>transactions</th>\n",
       "      <th>price</th>\n",
       "      <th>location</th>\n",
       "      <th>phone</th>\n",
       "      <th>display_phone</th>\n",
       "      <th>distance</th>\n",
       "    </tr>\n",
       "  </thead>\n",
       "  <tbody>\n",
       "    <tr>\n",
       "      <th>0</th>\n",
       "      <td>8TkMaePsk1-dVqrTJ7Aarw</td>\n",
       "      <td>crazy-rockn-sushi-gardena-gardena-2</td>\n",
       "      <td>Crazy Rock'N Sushi - Gardena</td>\n",
       "      <td>https://s3-media1.fl.yelpcdn.com/bphoto/KgR3UM...</td>\n",
       "      <td>False</td>\n",
       "      <td>https://www.yelp.com/biz/crazy-rockn-sushi-gar...</td>\n",
       "      <td>924</td>\n",
       "      <td>[{'alias': 'seafood', 'title': 'Seafood'}, {'a...</td>\n",
       "      <td>4.0</td>\n",
       "      <td>{'latitude': 33.890149, 'longitude': -118.303588}</td>\n",
       "      <td>[pickup, delivery]</td>\n",
       "      <td>$$</td>\n",
       "      <td>{'address1': '1546 W Redondo Beach Blvd', 'add...</td>\n",
       "      <td>13103237655</td>\n",
       "      <td>(310) 323-7655</td>\n",
       "      <td>10580.897119</td>\n",
       "    </tr>\n",
       "    <tr>\n",
       "      <th>1</th>\n",
       "      <td>InOqSX9rLUAqAP7Q13UrQg</td>\n",
       "      <td>tenno-sushi-los-angeles-3</td>\n",
       "      <td>Tenno Sushi</td>\n",
       "      <td>https://s3-media2.fl.yelpcdn.com/bphoto/nIScE_...</td>\n",
       "      <td>False</td>\n",
       "      <td>https://www.yelp.com/biz/tenno-sushi-los-angel...</td>\n",
       "      <td>2040</td>\n",
       "      <td>[{'alias': 'japanese', 'title': 'Japanese'}, {...</td>\n",
       "      <td>4.0</td>\n",
       "      <td>{'latitude': 34.0475658195504, 'longitude': -1...</td>\n",
       "      <td>[pickup, delivery]</td>\n",
       "      <td>$$</td>\n",
       "      <td>{'address1': '207 S Central Ave', 'address2': ...</td>\n",
       "      <td>12136250602</td>\n",
       "      <td>(213) 625-0602</td>\n",
       "      <td>7937.247513</td>\n",
       "    </tr>\n",
       "    <tr>\n",
       "      <th>2</th>\n",
       "      <td>us0WnDOySVXXXwCqs0AaCw</td>\n",
       "      <td>izakaya-osen-los-angeles-los-angeles</td>\n",
       "      <td>Izakaya Osen - Los Angeles</td>\n",
       "      <td>https://s3-media1.fl.yelpcdn.com/bphoto/m2GLJb...</td>\n",
       "      <td>False</td>\n",
       "      <td>https://www.yelp.com/biz/izakaya-osen-los-ange...</td>\n",
       "      <td>1543</td>\n",
       "      <td>[{'alias': 'sushi', 'title': 'Sushi Bars'}, {'...</td>\n",
       "      <td>4.5</td>\n",
       "      <td>{'latitude': 34.08330553596485, 'longitude': -...</td>\n",
       "      <td>[restaurant_reservation, pickup, delivery]</td>\n",
       "      <td>$$</td>\n",
       "      <td>{'address1': '2903 Sunset Blvd', 'address2': '...</td>\n",
       "      <td>13239282220</td>\n",
       "      <td>(323) 928-2220</td>\n",
       "      <td>11274.145241</td>\n",
       "    </tr>\n",
       "    <tr>\n",
       "      <th>3</th>\n",
       "      <td>6DbAYZ3iMqHn60Maepqa9Q</td>\n",
       "      <td>casa-noodle-teriyaki-los-angeles-2</td>\n",
       "      <td>Casa Noodle Teriyaki</td>\n",
       "      <td>https://s3-media2.fl.yelpcdn.com/bphoto/0Wy60l...</td>\n",
       "      <td>False</td>\n",
       "      <td>https://www.yelp.com/biz/casa-noodle-teriyaki-...</td>\n",
       "      <td>160</td>\n",
       "      <td>[{'alias': 'japanese', 'title': 'Japanese'}, {...</td>\n",
       "      <td>4.5</td>\n",
       "      <td>{'latitude': 33.98642, 'longitude': -118.27357}</td>\n",
       "      <td>[pickup, delivery]</td>\n",
       "      <td>$</td>\n",
       "      <td>{'address1': '5930 S Main St', 'address2': Non...</td>\n",
       "      <td>13232328200</td>\n",
       "      <td>(323) 232-8200</td>\n",
       "      <td>501.788497</td>\n",
       "    </tr>\n",
       "    <tr>\n",
       "      <th>4</th>\n",
       "      <td>hARUOlpi_buVjoU0gN2ugw</td>\n",
       "      <td>la-zona-sushi-los-angeles</td>\n",
       "      <td>La Zona Sushi</td>\n",
       "      <td>https://s3-media2.fl.yelpcdn.com/bphoto/cbhseL...</td>\n",
       "      <td>False</td>\n",
       "      <td>https://www.yelp.com/biz/la-zona-sushi-los-ang...</td>\n",
       "      <td>65</td>\n",
       "      <td>[{'alias': 'sushi', 'title': 'Sushi Bars'}]</td>\n",
       "      <td>4.5</td>\n",
       "      <td>{'latitude': 33.9821249031109, 'longitude': -1...</td>\n",
       "      <td>[pickup, delivery]</td>\n",
       "      <td>$$</td>\n",
       "      <td>{'address1': '1913 E Gage Ave', 'address2': ''...</td>\n",
       "      <td>13234875951</td>\n",
       "      <td>(323) 487-5951</td>\n",
       "      <td>3197.567803</td>\n",
       "    </tr>\n",
       "  </tbody>\n",
       "</table>\n",
       "</div>"
      ],
      "text/plain": [
       "                       id                                 alias  \\\n",
       "0  8TkMaePsk1-dVqrTJ7Aarw   crazy-rockn-sushi-gardena-gardena-2   \n",
       "1  InOqSX9rLUAqAP7Q13UrQg             tenno-sushi-los-angeles-3   \n",
       "2  us0WnDOySVXXXwCqs0AaCw  izakaya-osen-los-angeles-los-angeles   \n",
       "3  6DbAYZ3iMqHn60Maepqa9Q    casa-noodle-teriyaki-los-angeles-2   \n",
       "4  hARUOlpi_buVjoU0gN2ugw             la-zona-sushi-los-angeles   \n",
       "\n",
       "                           name  \\\n",
       "0  Crazy Rock'N Sushi - Gardena   \n",
       "1                   Tenno Sushi   \n",
       "2    Izakaya Osen - Los Angeles   \n",
       "3          Casa Noodle Teriyaki   \n",
       "4                 La Zona Sushi   \n",
       "\n",
       "                                           image_url  is_closed  \\\n",
       "0  https://s3-media1.fl.yelpcdn.com/bphoto/KgR3UM...      False   \n",
       "1  https://s3-media2.fl.yelpcdn.com/bphoto/nIScE_...      False   \n",
       "2  https://s3-media1.fl.yelpcdn.com/bphoto/m2GLJb...      False   \n",
       "3  https://s3-media2.fl.yelpcdn.com/bphoto/0Wy60l...      False   \n",
       "4  https://s3-media2.fl.yelpcdn.com/bphoto/cbhseL...      False   \n",
       "\n",
       "                                                 url  review_count  \\\n",
       "0  https://www.yelp.com/biz/crazy-rockn-sushi-gar...           924   \n",
       "1  https://www.yelp.com/biz/tenno-sushi-los-angel...          2040   \n",
       "2  https://www.yelp.com/biz/izakaya-osen-los-ange...          1543   \n",
       "3  https://www.yelp.com/biz/casa-noodle-teriyaki-...           160   \n",
       "4  https://www.yelp.com/biz/la-zona-sushi-los-ang...            65   \n",
       "\n",
       "                                          categories  rating  \\\n",
       "0  [{'alias': 'seafood', 'title': 'Seafood'}, {'a...     4.0   \n",
       "1  [{'alias': 'japanese', 'title': 'Japanese'}, {...     4.0   \n",
       "2  [{'alias': 'sushi', 'title': 'Sushi Bars'}, {'...     4.5   \n",
       "3  [{'alias': 'japanese', 'title': 'Japanese'}, {...     4.5   \n",
       "4        [{'alias': 'sushi', 'title': 'Sushi Bars'}]     4.5   \n",
       "\n",
       "                                         coordinates  \\\n",
       "0  {'latitude': 33.890149, 'longitude': -118.303588}   \n",
       "1  {'latitude': 34.0475658195504, 'longitude': -1...   \n",
       "2  {'latitude': 34.08330553596485, 'longitude': -...   \n",
       "3    {'latitude': 33.98642, 'longitude': -118.27357}   \n",
       "4  {'latitude': 33.9821249031109, 'longitude': -1...   \n",
       "\n",
       "                                 transactions price  \\\n",
       "0                          [pickup, delivery]    $$   \n",
       "1                          [pickup, delivery]    $$   \n",
       "2  [restaurant_reservation, pickup, delivery]    $$   \n",
       "3                          [pickup, delivery]     $   \n",
       "4                          [pickup, delivery]    $$   \n",
       "\n",
       "                                            location        phone  \\\n",
       "0  {'address1': '1546 W Redondo Beach Blvd', 'add...  13103237655   \n",
       "1  {'address1': '207 S Central Ave', 'address2': ...  12136250602   \n",
       "2  {'address1': '2903 Sunset Blvd', 'address2': '...  13239282220   \n",
       "3  {'address1': '5930 S Main St', 'address2': Non...  13232328200   \n",
       "4  {'address1': '1913 E Gage Ave', 'address2': ''...  13234875951   \n",
       "\n",
       "    display_phone      distance  \n",
       "0  (310) 323-7655  10580.897119  \n",
       "1  (213) 625-0602   7937.247513  \n",
       "2  (323) 928-2220  11274.145241  \n",
       "3  (323) 232-8200    501.788497  \n",
       "4  (323) 487-5951   3197.567803  "
      ]
     },
     "execution_count": 37,
     "metadata": {},
     "output_type": "execute_result"
    }
   ],
   "source": [
    "df.head()"
   ]
  },
  {
   "cell_type": "code",
   "execution_count": 38,
   "id": "f13bdc65",
   "metadata": {},
   "outputs": [
    {
     "data": {
      "text/plain": [
       "'Data/Los Angeles-sushi.csv.gz'"
      ]
     },
     "execution_count": 38,
     "metadata": {},
     "output_type": "execute_result"
    }
   ],
   "source": [
    "csv_file = JSON_FILE.replace('.json', '.csv.gz')\n",
    "csv_file"
   ]
  },
  {
   "cell_type": "code",
   "execution_count": 39,
   "id": "b690f87d",
   "metadata": {},
   "outputs": [],
   "source": [
    "df.to_csv(csv_file, compression = 'gzip', index = False)"
   ]
  }
 ],
 "metadata": {
  "kernelspec": {
   "display_name": "Python (dojo-env)",
   "language": "python",
   "name": "dojo-env"
  },
  "language_info": {
   "codemirror_mode": {
    "name": "ipython",
    "version": 3
   },
   "file_extension": ".py",
   "mimetype": "text/x-python",
   "name": "python",
   "nbconvert_exporter": "python",
   "pygments_lexer": "ipython3",
   "version": "3.9.15"
  },
  "toc": {
   "base_numbering": 1,
   "nav_menu": {},
   "number_sections": true,
   "sideBar": true,
   "skip_h1_title": false,
   "title_cell": "Table of Contents",
   "title_sidebar": "Contents",
   "toc_cell": false,
   "toc_position": {},
   "toc_section_display": true,
   "toc_window_display": false
  }
 },
 "nbformat": 4,
 "nbformat_minor": 5
}
